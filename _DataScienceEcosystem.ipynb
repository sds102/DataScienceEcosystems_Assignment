{
 "cells": [
  {
   "cell_type": "markdown",
   "id": "409d5f13-4dd7-4129-b9d2-7ce94be22eaa",
   "metadata": {
    "tags": []
   },
   "source": [
    "# Data Science Tools and Ecosystem"
   ]
  },
  {
   "cell_type": "markdown",
   "id": "a951263a-6356-4a62-bf56-6dc5dade4b50",
   "metadata": {},
   "source": [
    "In this notebook, Data Science Tools and Ecosystem are summarized."
   ]
  },
  {
   "cell_type": "markdown",
   "id": "0ee734e4-c2b8-4a0c-a1b0-9d53bb2aabd7",
   "metadata": {
    "tags": []
   },
   "source": [
    "**Objectives**\n",
    "\n",
    "- List popular languages for Data Science\n",
    "- List commonly used libraries used in Data Science\n",
    "- List tools for Data Science\n",
    "- Evaluate simple arithmetic expressions\n"
   ]
  },
  {
   "cell_type": "markdown",
   "id": "045f911f-188b-471d-968f-c5775d23d329",
   "metadata": {},
   "source": [
    "Some of the popular languages that Data Scientists use are:\n",
    "\n",
    "    1. Python\n",
    "    2. R\n",
    "    3. SQL\n",
    "    "
   ]
  },
  {
   "cell_type": "markdown",
   "id": "165b03e2-910c-4803-b689-ea6b219a4333",
   "metadata": {},
   "source": [
    "Some of the commonly used libraries used by Data Scientists include:\n",
    "    \n",
    "    1. Apache Spark\n",
    "    2. Tensor Flow\n",
    "    3. Scikit-learn\n",
    "    "
   ]
  },
  {
   "cell_type": "markdown",
   "id": "2e164ee0-86b7-46a9-bcb5-8f0df3bdf4d3",
   "metadata": {
    "tags": []
   },
   "source": [
    "|Data Science Tools|\n",
    "|------|\n",
    "|Jupyter Notebook|\n",
    "|RStudio|\n",
    "|Watson Studio|\n"
   ]
  },
  {
   "cell_type": "markdown",
   "id": "52352778-27b7-49b0-a9db-a70a201f0514",
   "metadata": {},
   "source": [
    "### Below are a few examples of evaluating arithmetic expressions in Python"
   ]
  },
  {
   "cell_type": "code",
   "execution_count": 7,
   "id": "90b3f385-46dc-4120-93b8-6d33cf951be0",
   "metadata": {
    "tags": []
   },
   "outputs": [
    {
     "data": {
      "text/plain": [
       "17"
      ]
     },
     "execution_count": 7,
     "metadata": {},
     "output_type": "execute_result"
    }
   ],
   "source": [
    "# This a simple arithmetic expression to mutiply then add integers\n",
    "\n",
    "(3*4)+5"
   ]
  },
  {
   "cell_type": "code",
   "execution_count": 10,
   "id": "62089eab-72af-400f-94a8-6e9e35cb2d6b",
   "metadata": {
    "tags": []
   },
   "outputs": [
    {
     "data": {
      "text/plain": [
       "3.3333333333333335"
      ]
     },
     "execution_count": 10,
     "metadata": {},
     "output_type": "execute_result"
    }
   ],
   "source": [
    "# This will convert 200 minutes to hours by diving by 60\n",
    "\n",
    "(200/60)\n"
   ]
  },
  {
   "cell_type": "markdown",
   "id": "74384047-3bc3-4484-9522-9f6394b64168",
   "metadata": {
    "tags": []
   },
   "source": [
    "## Author\n",
    "\n",
    "Sarah"
   ]
  }
 ],
 "metadata": {
  "kernelspec": {
   "display_name": "Python",
   "language": "python",
   "name": "conda-env-python-py"
  },
  "language_info": {
   "codemirror_mode": {
    "name": "ipython",
    "version": 3
   },
   "file_extension": ".py",
   "mimetype": "text/x-python",
   "name": "python",
   "nbconvert_exporter": "python",
   "pygments_lexer": "ipython3",
   "version": "3.7.12"
  }
 },
 "nbformat": 4,
 "nbformat_minor": 5
}
